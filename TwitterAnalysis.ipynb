{
 "cells": [
  {
   "cell_type": "code",
   "execution_count": 44,
   "metadata": {},
   "outputs": [
    {
     "name": "stdout",
     "output_type": "stream",
     "text": [
      "dict_values(['exo_exodus_exol', 'franceswoolley', 'SparseHackle', 'ormester2009', 'fungudungu', 'Missxlulu1', 'PhilJDore', '5secondsOf1OneD', '_messsiah', '_sefakor_', 'QueenoftheClaw', 'MRADDICTION_', 'TigerTurtle', 'CCPSTitleI', 'thiccberly', 'NthrnCyclistTVL', 'ma_nyc7', 'Derkngoogly2', 'ArmosKnight', 'shorty_fonseca8', 'michinc10', 'brakerbaker', 'Keke_McGee', 'nensy02_', 'M_Methuselah', 'londontheGem', '_chlojayne', 'BrooksRaja', 'AmberPalomo', 'QMotives', 'Aulianuraldina', 'TheGerryEdwards', 'samaugustinee', 'ValerieJWood', 'charismacatches', 'httpsubby', 'AmeliaCBurke', 'titasoto', 'Font_Snob', '_michgracient', 'LindaBerghoff', 'KPuchtel', 'ThisWasMyIdea', 'cacowboy48', 'taping_amy', 'fenirinjanu', 'themutante', 'lizziesexton', 'My3SonsFL', 'princesspiagee', 'finy06', 'jadamckenzie___', 'kyrose87', 'covartsl', 'JoshuaWelle', 'Marilyn122665', 'aci531', 'terie_', 'tgeorge2308', 'j4dagoat', 'herondyer', 'synhjtjs', 'rebbeca930', 'JustinC5011', 'pingusoowawa', 'lizzypelton', '_afinley', 'btrsyanrimn', 'BurningPntFarm1', 'ELYSIANSUGA', 'jrmorgan81', 'FrankieTripi716', 'nesteggPUB', 'macatangayemm', 'athresh_bot', 'Ayu_KDPS', 'TwoLLsOneE', 'yungory', 'mturski1', 'BuffParadox', 'TomHoek', 'EZPZEEH', 'DanVersatile', 'MadeinMelanin95', 'NotRigoRojas', 'localbangtan', 'DLovatoMedia', 'keeryswolfhard_', 'G8trz4ever', '1_800_SWMRS', 'softgummybb', 'annesbandrants', 'LandonEmi', 'lajusti_', 'personerds', 'irish_trump', 'SpencerToliver', 'alshabob2', 'nonoLOOK', 'ayolaflare', 'GeneralissimoJr', 'k4tc4rl0', 'DolanSwiss', 'winna_eka', 'Antipathic_hoe', 'PrettyBoyCeeCee', 'jada_longbine', 'whoshanar', 'chloeggg', 'ekate86', 'CesalSosa', 'emskorup', 'kimbeerlyklaege', 'fish10007210', 'voovoo60', 'yerbasuena', 'jawrepayne', 'phissy11', 'DvidRx', 'CoachDiribe96', 'dylan_calf', 'KennoGreen', 'devin_salesman', 'ludwellorg', 'Skullee8899', 'fisheye_fx', 'RBraceySherman', 'a8uOb', 'briannasay_what', 'Niyadiorrr', 'Kysus_', 'sinsaaaaaa', 'SuKBuK', 'sachynsuch', 'Scooterissima', 'gudnameztaken', 'VulgarMercenary', 'bizzlesexchange', 'crizm0', 'rosemary_clark', 'paige_millerrrr', '1_dperez', 'j_aches', 'NEDARBNAGROM', 'Allieoyos8', 'juliandennis19', 'We_Are_Waypoint', '_tommoji', 'nialllflicker', 'AlbertTLunde', 'tzuyutwt', 'Occupy_Jamaica', 'alma_altura', 'sameerkinger', 'peachy_leo', 'aatie_pacheco', 'JasonWalker_', 'EazyDez88It', 'mr_rugz', 'nerdytroian', 'Team_Brunette', 'Aniion', 'lee33788', 'Jacobkilgore6', 'ksmomma74', 'blue13012001', 'unrivaleed', 'mischimmel', 'Janecvan', 'jrlnvxx', 'x_Suspended', 'Tery_Blackwell', 'eplazabiz', 'yasrofl', 'vanbev13', 'liberty_sister', 'ClaRay354', '93bregor', 'WilliamGahres', 'deiontaee', 'jetrotter', 'AvianoBrat', 'TheRedManScott', 'yvonnehazard', 'andrea32160025', 'conspiracylife', 'jessepinkmane', 'DinaBoz', 'DrSue19380', 'friastephen', 'erotaekookie', 'JaggerMack', 'ddzaylar', 'Ritdrecus', 'sonrioporcnco', 'Bitter_Pat', 'mrs_stpeter', 'zoeydog15', 'Tiptoethunderc1', 'TinaOrt79591465', 'senpaijessy', 'johnchampion79', 'GenX6172', 'Kasiahmae', 'NikkaellObida', 'ConcxitedJaee', 'BulldogPatto', 'DrePerko', 'ChrisAlanComedy', 'izzmle', 'NajeCarlos_', 'playsosgame', 'ezhilarasuek17', '5_GenGen', 'mberman', 'AMTrautt', 'ewellprong', 'my_hearteu02', 'Font_Snob', 'caninecatnip', 'SusanHershSmith', 'RamonaC74273501', 'gill066', 'SilkenAura', 'harrynkh', 'superawesome255', 'AWhimsicalMess', 'CarrolLewis1', 'JacobWolinsky', 'Tasha_Woot', 'Sonamoon8', 'jasmineshughes', 'SaraLuvsPuppies', 'diandujour', 'BitcoinBolt', 'hahoAnna', 'KevinBnino399', 'therbzyall', 'annmarieee1', 'JustJuicy88', 'ModerateWisdom', 'muhaliftavir', 'David__Costa', 'cian_lancaster', 'ArielEIizabeth', 'jesslynnex', 'FreDDzalot', 'thaolitos', 'KptMatt', 'JackRos22241643', 'LindsleyAllen', 'jamestanton', 'marcyourva', 'killminnie', 'kpendell', 'Exo4Lwith', 'Velazquez_Evell', 'womanownedclub', 'septuvariest', 'barneybraces', 'FUCKJAMIE17', 'RealMadridPumas', 'TheFebrileMuse', 'tracykumo', 'patg0v', 'El_Rey81', 'camIIIquinteroo', 'BensidiAnas', 'ShelterMelody', '1NunderGod_Emly', 'variousjackie', 'sandisellshomes', 'sexyyjimin', 'campfarrell54', 'Foge1_', 'CraveNani', 'Rohan_SF', 'ReynaMirai', 'Drullkus', 'TweetMeJerk', '_MermaidArielle', 'noravalkiyrie', 'sporting_guard', 'gprimal', 'yangneekang', 'amandagerhart13', 'SlidinDelta', '_Moy3r', 'donna_griebel', '_Lovelleps', 'alanctobacilos', 'troyeftchai', 'oslo_sean', 'BlowUpRadio', 'SlickHairedKing', 'Man_like_Mufasa', 'trappakhan', 'cecysnothere', 'JbrockAlex', 'markandmary211', 'swankybb', 'miss__pepita', 'wdwismyworld', 'iconic_eggcell', 'paigeeenicole15', 'ELREDubai', 'Dunyegz', 'paul_crazed', 'gordongrumbles', 'Jerikaisamazing', 'MikeRowe100', 'LukerGaming', 'zeemike_7', 'Dealfatigue', 'LaurieForReal', 'simplegirl1328', 'YamileyCave_', 'aud_bowler', 'blamemenahhh', '__Alojziaa', 'TheRealKianaaa', 'RBraceySherman', 'hayes_hayes3', '1laststraw', 'LzKsto', 'CherylDuggan1', 'Tsiser45', 'Cynnxo__', 'KaiiBugg', 'k4meko', 'YandereQuinn', '69pdf', 'garydcopeland', 'TrapsAintAllGay', 'governn1', 'teresa_cadavid', 'Diesel_Derp', 'Greggorj', 'genealogy_jill', 'KenWidmeyer', 'LRobinsonWagner', 'SepiaMetanoia', 'Liu_Kang1911', 'leti1254', 'bobbysilva', 'White_Wolf_2016', 'sehunburncarrot', 'dixonshuman', 'Lolman606', 'HoustonChronHS', 'Peoples_Pundit', 'debrakj', 'safronprice', 'VictoriaCarte10', 'Aiso_sa', 'realhansard', 'kreidler_nathan', 'bellablue1060', 'seinfldwasright', '_natsunosora', 'charbell1231', 'LilBbgx_', 'naylorkin', 'nazira_ahmad89', 'knj_WAV', 'butfirstjava', 'rshsr', 'Lallers96', 'brenvamp', 'zoobarb', 'cfinkle1967', 'verhaos', 'Ayo_Jono', 'DrBelindaCapera', 'JShambryy', 'DentalCNB', 'CulinaryCNB', 'CareerSchoolNow', 'fitandspicy', 'AlyssanicoleDG', 'GravesFPS', 'horaani_rinbu39', 'AliumFairy', 'MamaBearDone', 'pjmthoughts', 'ayambakarmadu69', 'Jessica_zapata5', 'Bucks25ty', 'moutet', 'Mdeanda00', 'mafalda_hm', 'nditebeck', 'aisyaamira', 'withseouI', '4f0xsake', 'jeffdike_', 'FeistyPotaras', 'BigdaddyC__', 'eriktrillmonger', 'CatMamasDotCom'])\n",
      "Counter({'Font_Snob': 2, 'RBraceySherman': 2, 'exo_exodus_exol': 1, 'franceswoolley': 1, 'SparseHackle': 1, 'ormester2009': 1, 'fungudungu': 1, 'Missxlulu1': 1, 'PhilJDore': 1, '5secondsOf1OneD': 1, '_messsiah': 1, '_sefakor_': 1, 'QueenoftheClaw': 1, 'MRADDICTION_': 1, 'TigerTurtle': 1, 'CCPSTitleI': 1, 'thiccberly': 1, 'NthrnCyclistTVL': 1, 'ma_nyc7': 1, 'Derkngoogly2': 1, 'ArmosKnight': 1, 'shorty_fonseca8': 1, 'michinc10': 1, 'brakerbaker': 1, 'Keke_McGee': 1, 'nensy02_': 1, 'M_Methuselah': 1, 'londontheGem': 1, '_chlojayne': 1, 'BrooksRaja': 1, 'AmberPalomo': 1, 'QMotives': 1, 'Aulianuraldina': 1, 'TheGerryEdwards': 1, 'samaugustinee': 1, 'ValerieJWood': 1, 'charismacatches': 1, 'httpsubby': 1, 'AmeliaCBurke': 1, 'titasoto': 1, '_michgracient': 1, 'LindaBerghoff': 1, 'KPuchtel': 1, 'ThisWasMyIdea': 1, 'cacowboy48': 1, 'taping_amy': 1, 'fenirinjanu': 1, 'themutante': 1, 'lizziesexton': 1, 'My3SonsFL': 1, 'princesspiagee': 1, 'finy06': 1, 'jadamckenzie___': 1, 'kyrose87': 1, 'covartsl': 1, 'JoshuaWelle': 1, 'Marilyn122665': 1, 'aci531': 1, 'terie_': 1, 'tgeorge2308': 1, 'j4dagoat': 1, 'herondyer': 1, 'synhjtjs': 1, 'rebbeca930': 1, 'JustinC5011': 1, 'pingusoowawa': 1, 'lizzypelton': 1, '_afinley': 1, 'btrsyanrimn': 1, 'BurningPntFarm1': 1, 'ELYSIANSUGA': 1, 'jrmorgan81': 1, 'FrankieTripi716': 1, 'nesteggPUB': 1, 'macatangayemm': 1, 'athresh_bot': 1, 'Ayu_KDPS': 1, 'TwoLLsOneE': 1, 'yungory': 1, 'mturski1': 1, 'BuffParadox': 1, 'TomHoek': 1, 'EZPZEEH': 1, 'DanVersatile': 1, 'MadeinMelanin95': 1, 'NotRigoRojas': 1, 'localbangtan': 1, 'DLovatoMedia': 1, 'keeryswolfhard_': 1, 'G8trz4ever': 1, '1_800_SWMRS': 1, 'softgummybb': 1, 'annesbandrants': 1, 'LandonEmi': 1, 'lajusti_': 1, 'personerds': 1, 'irish_trump': 1, 'SpencerToliver': 1, 'alshabob2': 1, 'nonoLOOK': 1, 'ayolaflare': 1, 'GeneralissimoJr': 1, 'k4tc4rl0': 1, 'DolanSwiss': 1, 'winna_eka': 1, 'Antipathic_hoe': 1, 'PrettyBoyCeeCee': 1, 'jada_longbine': 1, 'whoshanar': 1, 'chloeggg': 1, 'ekate86': 1, 'CesalSosa': 1, 'emskorup': 1, 'kimbeerlyklaege': 1, 'fish10007210': 1, 'voovoo60': 1, 'yerbasuena': 1, 'jawrepayne': 1, 'phissy11': 1, 'DvidRx': 1, 'CoachDiribe96': 1, 'dylan_calf': 1, 'KennoGreen': 1, 'devin_salesman': 1, 'ludwellorg': 1, 'Skullee8899': 1, 'fisheye_fx': 1, 'a8uOb': 1, 'briannasay_what': 1, 'Niyadiorrr': 1, 'Kysus_': 1, 'sinsaaaaaa': 1, 'SuKBuK': 1, 'sachynsuch': 1, 'Scooterissima': 1, 'gudnameztaken': 1, 'VulgarMercenary': 1, 'bizzlesexchange': 1, 'crizm0': 1, 'rosemary_clark': 1, 'paige_millerrrr': 1, '1_dperez': 1, 'j_aches': 1, 'NEDARBNAGROM': 1, 'Allieoyos8': 1, 'juliandennis19': 1, 'We_Are_Waypoint': 1, '_tommoji': 1, 'nialllflicker': 1, 'AlbertTLunde': 1, 'tzuyutwt': 1, 'Occupy_Jamaica': 1, 'alma_altura': 1, 'sameerkinger': 1, 'peachy_leo': 1, 'aatie_pacheco': 1, 'JasonWalker_': 1, 'EazyDez88It': 1, 'mr_rugz': 1, 'nerdytroian': 1, 'Team_Brunette': 1, 'Aniion': 1, 'lee33788': 1, 'Jacobkilgore6': 1, 'ksmomma74': 1, 'blue13012001': 1, 'unrivaleed': 1, 'mischimmel': 1, 'Janecvan': 1, 'jrlnvxx': 1, 'x_Suspended': 1, 'Tery_Blackwell': 1, 'eplazabiz': 1, 'yasrofl': 1, 'vanbev13': 1, 'liberty_sister': 1, 'ClaRay354': 1, '93bregor': 1, 'WilliamGahres': 1, 'deiontaee': 1, 'jetrotter': 1, 'AvianoBrat': 1, 'TheRedManScott': 1, 'yvonnehazard': 1, 'andrea32160025': 1, 'conspiracylife': 1, 'jessepinkmane': 1, 'DinaBoz': 1, 'DrSue19380': 1, 'friastephen': 1, 'erotaekookie': 1, 'JaggerMack': 1, 'ddzaylar': 1, 'Ritdrecus': 1, 'sonrioporcnco': 1, 'Bitter_Pat': 1, 'mrs_stpeter': 1, 'zoeydog15': 1, 'Tiptoethunderc1': 1, 'TinaOrt79591465': 1, 'senpaijessy': 1, 'johnchampion79': 1, 'GenX6172': 1, 'Kasiahmae': 1, 'NikkaellObida': 1, 'ConcxitedJaee': 1, 'BulldogPatto': 1, 'DrePerko': 1, 'ChrisAlanComedy': 1, 'izzmle': 1, 'NajeCarlos_': 1, 'playsosgame': 1, 'ezhilarasuek17': 1, '5_GenGen': 1, 'mberman': 1, 'AMTrautt': 1, 'ewellprong': 1, 'my_hearteu02': 1, 'caninecatnip': 1, 'SusanHershSmith': 1, 'RamonaC74273501': 1, 'gill066': 1, 'SilkenAura': 1, 'harrynkh': 1, 'superawesome255': 1, 'AWhimsicalMess': 1, 'CarrolLewis1': 1, 'JacobWolinsky': 1, 'Tasha_Woot': 1, 'Sonamoon8': 1, 'jasmineshughes': 1, 'SaraLuvsPuppies': 1, 'diandujour': 1, 'BitcoinBolt': 1, 'hahoAnna': 1, 'KevinBnino399': 1, 'therbzyall': 1, 'annmarieee1': 1, 'JustJuicy88': 1, 'ModerateWisdom': 1, 'muhaliftavir': 1, 'David__Costa': 1, 'cian_lancaster': 1, 'ArielEIizabeth': 1, 'jesslynnex': 1, 'FreDDzalot': 1, 'thaolitos': 1, 'KptMatt': 1, 'JackRos22241643': 1, 'LindsleyAllen': 1, 'jamestanton': 1, 'marcyourva': 1, 'killminnie': 1, 'kpendell': 1, 'Exo4Lwith': 1, 'Velazquez_Evell': 1, 'womanownedclub': 1, 'septuvariest': 1, 'barneybraces': 1, 'FUCKJAMIE17': 1, 'RealMadridPumas': 1, 'TheFebrileMuse': 1, 'tracykumo': 1, 'patg0v': 1, 'El_Rey81': 1, 'camIIIquinteroo': 1, 'BensidiAnas': 1, 'ShelterMelody': 1, '1NunderGod_Emly': 1, 'variousjackie': 1, 'sandisellshomes': 1, 'sexyyjimin': 1, 'campfarrell54': 1, 'Foge1_': 1, 'CraveNani': 1, 'Rohan_SF': 1, 'ReynaMirai': 1, 'Drullkus': 1, 'TweetMeJerk': 1, '_MermaidArielle': 1, 'noravalkiyrie': 1, 'sporting_guard': 1, 'gprimal': 1, 'yangneekang': 1, 'amandagerhart13': 1, 'SlidinDelta': 1, '_Moy3r': 1, 'donna_griebel': 1, '_Lovelleps': 1, 'alanctobacilos': 1, 'troyeftchai': 1, 'oslo_sean': 1, 'BlowUpRadio': 1, 'SlickHairedKing': 1, 'Man_like_Mufasa': 1, 'trappakhan': 1, 'cecysnothere': 1, 'JbrockAlex': 1, 'markandmary211': 1, 'swankybb': 1, 'miss__pepita': 1, 'wdwismyworld': 1, 'iconic_eggcell': 1, 'paigeeenicole15': 1, 'ELREDubai': 1, 'Dunyegz': 1, 'paul_crazed': 1, 'gordongrumbles': 1, 'Jerikaisamazing': 1, 'MikeRowe100': 1, 'LukerGaming': 1, 'zeemike_7': 1, 'Dealfatigue': 1, 'LaurieForReal': 1, 'simplegirl1328': 1, 'YamileyCave_': 1, 'aud_bowler': 1, 'blamemenahhh': 1, '__Alojziaa': 1, 'TheRealKianaaa': 1, 'hayes_hayes3': 1, '1laststraw': 1, 'LzKsto': 1, 'CherylDuggan1': 1, 'Tsiser45': 1, 'Cynnxo__': 1, 'KaiiBugg': 1, 'k4meko': 1, 'YandereQuinn': 1, '69pdf': 1, 'garydcopeland': 1, 'TrapsAintAllGay': 1, 'governn1': 1, 'teresa_cadavid': 1, 'Diesel_Derp': 1, 'Greggorj': 1, 'genealogy_jill': 1, 'KenWidmeyer': 1, 'LRobinsonWagner': 1, 'SepiaMetanoia': 1, 'Liu_Kang1911': 1, 'leti1254': 1, 'bobbysilva': 1, 'White_Wolf_2016': 1, 'sehunburncarrot': 1, 'dixonshuman': 1, 'Lolman606': 1, 'HoustonChronHS': 1, 'Peoples_Pundit': 1, 'debrakj': 1, 'safronprice': 1, 'VictoriaCarte10': 1, 'Aiso_sa': 1, 'realhansard': 1, 'kreidler_nathan': 1, 'bellablue1060': 1, 'seinfldwasright': 1, '_natsunosora': 1, 'charbell1231': 1, 'LilBbgx_': 1, 'naylorkin': 1, 'nazira_ahmad89': 1, 'knj_WAV': 1, 'butfirstjava': 1, 'rshsr': 1, 'Lallers96': 1, 'brenvamp': 1, 'zoobarb': 1, 'cfinkle1967': 1, 'verhaos': 1, 'Ayo_Jono': 1, 'DrBelindaCapera': 1, 'JShambryy': 1, 'DentalCNB': 1, 'CulinaryCNB': 1, 'CareerSchoolNow': 1, 'fitandspicy': 1, 'AlyssanicoleDG': 1, 'GravesFPS': 1, 'horaani_rinbu39': 1, 'AliumFairy': 1, 'MamaBearDone': 1, 'pjmthoughts': 1, 'ayambakarmadu69': 1, 'Jessica_zapata5': 1, 'Bucks25ty': 1, 'moutet': 1, 'Mdeanda00': 1, 'mafalda_hm': 1, 'nditebeck': 1, 'aisyaamira': 1, 'withseouI': 1, '4f0xsake': 1, 'jeffdike_': 1, 'FeistyPotaras': 1, 'BigdaddyC__': 1, 'eriktrillmonger': 1, 'CatMamasDotCom': 1})\n",
      "[('Font_Snob', 2), ('RBraceySherman', 2), ('exo_exodus_exol', 1), ('franceswoolley', 1), ('SparseHackle', 1), ('ormester2009', 1), ('fungudungu', 1), ('Missxlulu1', 1), ('PhilJDore', 1), ('5secondsOf1OneD', 1)]\n"
     ]
    }
   ],
   "source": [
    "import string\n",
    "import operator\n",
    "import sys\n",
    "import time\n",
    "import collections\n",
    "import numpy\n",
    "\n",
    "\n",
    "FileRead= \"C:/Users/shair/OneDrive/Desktop/New folder/what.txt\";\n",
    "\n",
    "with open(FileRead , encoding = \"latin-1\") as EncodedFile:\n",
    "    File1 = EncodedFile.readlines()\n",
    "\t\n",
    "#initialize the variables \n",
    "usernames = {}\n",
    "count = 0\n",
    "for data1 in File1:\n",
    "    File2 = data1.split()\n",
    "    usernames[count] = File2[0]\n",
    "    count = count + 1\n",
    "list_of_names = usernames.values()\n",
    "print(list_of_names)\n",
    "count_names = collections.Counter(list_of_names)\n",
    "print(count_names)\n",
    "a = collections.Counter(count_names).most_common(10)\n",
    "print(a)\n",
    "outputFile = open(r'C:\\Users\\shair\\OneDrive\\Desktop\\New folder\\mosttweets.txt' ,'w' , encoding = \"utf-8\")\n",
    "outputFile.write(\"The top 10 users who tweeted most are: \\n\",)\n",
    "for i in range(0,10):\n",
    "    outputFile.write(\"The user \" + a[i][0] + \" tweeted \" + str(a[i][1]) + \" times \" +\"\\n\")\n",
    "    outputFile.close"
   ]
  },
  {
   "cell_type": "code",
   "execution_count": 45,
   "metadata": {},
   "outputs": [
    {
     "name": "stdout",
     "output_type": "stream",
     "text": [
      "{'exo_exodus_exol': 54, 'franceswoolley': 3148, 'SparseHackle': 4, 'ormester2009': 135, 'fungudungu': 14, 'Missxlulu1': 68, 'PhilJDore': 2770, '5secondsOf1OneD': 1593, '_messsiah': 1473, '_sefakor_': 1863, 'QueenoftheClaw': 1403, 'MRADDICTION_': 10714, 'TigerTurtle': 274, 'CCPSTitleI': 352, 'thiccberly': 3281, 'NthrnCyclistTVL': 158, 'ma_nyc7': 1241, 'Derkngoogly2': 408, 'ArmosKnight': 355, 'shorty_fonseca8': 338, 'michinc10': 344, 'brakerbaker': 14, 'Keke_McGee': 1674, 'nensy02_': 142, 'M_Methuselah': 4813, 'londontheGem': 204, '_chlojayne': 150, 'BrooksRaja': 101, 'AmberPalomo': 859, 'QMotives': 70, 'Aulianuraldina': 483, 'TheGerryEdwards': 3212, 'samaugustinee': 196, 'ValerieJWood': 849, 'charismacatches': 320, 'httpsubby': 26, 'AmeliaCBurke': 236, 'titasoto': 548, 'Font_Snob': 39, '_michgracient': 269, 'LindaBerghoff': 1814, 'KPuchtel': 2464, 'ThisWasMyIdea': 64, 'cacowboy48': 378, 'taping_amy': 161, 'fenirinjanu': 871, 'themutante': 542, 'lizziesexton': 327, 'My3SonsFL': 27, 'princesspiagee': 356, 'finy06': 23733, 'jadamckenzie___': 478, 'kyrose87': 1076, 'covartsl': 1134, 'JoshuaWelle': 789, 'Marilyn122665': 1202, 'aci531': 392, 'terie_': 205, 'tgeorge2308': 245, 'j4dagoat': 339, 'herondyer': 224, 'synhjtjs': 636, 'rebbeca930': 64, 'JustinC5011': 115, 'pingusoowawa': 15, 'lizzypelton': 128, '_afinley': 412, 'btrsyanrimn': 163, 'BurningPntFarm1': 1, 'ELYSIANSUGA': 5302, 'jrmorgan81': 423, 'FrankieTripi716': 511, 'nesteggPUB': 258, 'macatangayemm': 262, 'athresh_bot': 22, 'Ayu_KDPS': 268, 'TwoLLsOneE': 19, 'yungory': 46, 'mturski1': 131, 'BuffParadox': 1022, 'TomHoek': 373, 'EZPZEEH': 307, 'DanVersatile': 168, 'MadeinMelanin95': 426, 'NotRigoRojas': 1162, 'localbangtan': 22, 'DLovatoMedia': 2752, 'keeryswolfhard_': 1574, 'G8trz4ever': 2003, '1_800_SWMRS': 423, 'softgummybb': 107, 'annesbandrants': 126, 'LandonEmi': 152, 'lajusti_': 287, 'personerds': 360, 'irish_trump': 2613, 'SpencerToliver': 515, 'alshabob2': 3671, 'nonoLOOK': 534, 'ayolaflare': 2389, 'GeneralissimoJr': 29, 'k4tc4rl0': 843, 'DolanSwiss': 182, 'winna_eka': 481, 'Antipathic_hoe': 104, 'PrettyBoyCeeCee': 207, 'jada_longbine': 622, 'whoshanar': 320, 'chloeggg': 2012, 'ekate86': 649, 'CesalSosa': 304, 'emskorup': 101, 'kimbeerlyklaege': 991, 'fish10007210': 165, 'voovoo60': 410, 'yerbasuena': 860, 'jawrepayne': 1651, 'phissy11': 72, 'DvidRx': 132, 'CoachDiribe96': 1685, 'dylan_calf': 57, 'KennoGreen': 1321, 'devin_salesman': 8732, 'ludwellorg': 95, 'Skullee8899': 57, 'fisheye_fx': 11, 'RBraceySherman': 14344, 'a8uOb': 7, 'briannasay_what': 461, 'Niyadiorrr': 104, 'Kysus_': 1654, 'sinsaaaaaa': 177, 'SuKBuK': 519, 'sachynsuch': 757, 'Scooterissima': 1960, 'gudnameztaken': 681, 'VulgarMercenary': 83, 'bizzlesexchange': 1510, 'crizm0': 264, 'rosemary_clark': 71, 'paige_millerrrr': 432, '1_dperez': 293, 'j_aches': 310, 'NEDARBNAGROM': 33354, 'Allieoyos8': 88, 'juliandennis19': 3, 'We_Are_Waypoint': 786, '_tommoji': 573, 'nialllflicker': 1359, 'AlbertTLunde': 722, 'tzuyutwt': 2081, 'Occupy_Jamaica': 2038, 'alma_altura': 64, 'sameerkinger': 736, 'peachy_leo': 28, 'aatie_pacheco': 221, 'JasonWalker_': 2742, 'EazyDez88It': 27, 'mr_rugz': 71, 'nerdytroian': 541, 'Team_Brunette': 1101, 'Aniion': 553, 'lee33788': 333, 'Jacobkilgore6': 69, 'ksmomma74': 4692, 'blue13012001': 6, 'unrivaleed': 93, 'mischimmel': 399, 'Janecvan': 516, 'jrlnvxx': 566, 'x_Suspended': 21, 'Tery_Blackwell': 2068, 'eplazabiz': 4, 'yasrofl': 236, 'vanbev13': 498, 'liberty_sister': 1467, 'ClaRay354': 189, '93bregor': 250, 'WilliamGahres': 22, 'deiontaee': 161, 'jetrotter': 4705, 'AvianoBrat': 175, 'TheRedManScott': 378, 'yvonnehazard': 1015, 'andrea32160025': 24, 'conspiracylife': 527, 'jessepinkmane': 248, 'DinaBoz': 162, 'DrSue19380': 4078, 'friastephen': 423, 'erotaekookie': 285, 'JaggerMack': 494, 'ddzaylar': 305, 'Ritdrecus': 663, 'sonrioporcnco': 2294, 'Bitter_Pat': 699, 'mrs_stpeter': 47, 'zoeydog15': 62, 'Tiptoethunderc1': 7, 'TinaOrt79591465': 8742, 'senpaijessy': 21, 'johnchampion79': 249, 'GenX6172': 101, 'Kasiahmae': 313, 'NikkaellObida': 211, 'ConcxitedJaee': 533, 'BulldogPatto': 2120, 'DrePerko': 281, 'ChrisAlanComedy': 1559, 'izzmle': 46, 'NajeCarlos_': 852, 'playsosgame': 13424, 'ezhilarasuek17': 219, '5_GenGen': 1191, 'mberman': 161, 'AMTrautt': 729, 'ewellprong': 95, 'my_hearteu02': 257, 'caninecatnip': 212, 'SusanHershSmith': 269, 'RamonaC74273501': 257, 'gill066': 97, 'SilkenAura': 39, 'harrynkh': 1130, 'superawesome255': 5, 'AWhimsicalMess': 286, 'CarrolLewis1': 331, 'JacobWolinsky': 5497, 'Tasha_Woot': 1130, 'Sonamoon8': 275, 'jasmineshughes': 181, 'SaraLuvsPuppies': 636, 'diandujour': 955, 'BitcoinBolt': 10661, 'hahoAnna': 1102, 'KevinBnino399': 14, 'therbzyall': 782, 'annmarieee1': 310, 'JustJuicy88': 579, 'ModerateWisdom': 312, 'muhaliftavir': 140, 'David__Costa': 732, 'cian_lancaster': 89, 'ArielEIizabeth': 653, 'jesslynnex': 248, 'FreDDzalot': 76, 'thaolitos': 175, 'KptMatt': 630, 'JackRos22241643': 162, 'LindsleyAllen': 1384, 'jamestanton': 12517, 'marcyourva': 359, 'killminnie': 2228, 'kpendell': 18, 'Exo4Lwith': 172, 'Velazquez_Evell': 2439, 'womanownedclub': 19142, 'septuvariest': 35, 'barneybraces': 68, 'FUCKJAMIE17': 534, 'RealMadridPumas': 58, 'TheFebrileMuse': 844, 'tracykumo': 62, 'patg0v': 102, 'El_Rey81': 68, 'camIIIquinteroo': 930, 'BensidiAnas': 1, 'ShelterMelody': 109, '1NunderGod_Emly': 283, 'variousjackie': 1531, 'sandisellshomes': 3426, 'sexyyjimin': 340, 'campfarrell54': 328, 'Foge1_': 6, 'CraveNani': 3812, 'Rohan_SF': 397, 'ReynaMirai': 93, 'Drullkus': 2280, 'TweetMeJerk': 878, '_MermaidArielle': 1232, 'noravalkiyrie': 5454, 'sporting_guard': 553, 'gprimal': 70, 'yangneekang': 4425, 'amandagerhart13': 985, 'SlidinDelta': 5350, '_Moy3r': 267, 'donna_griebel': 22, '_Lovelleps': 495, 'alanctobacilos': 519, 'troyeftchai': 1204, 'oslo_sean': 2139, 'BlowUpRadio': 2830, 'SlickHairedKing': 68, 'Man_like_Mufasa': 528, 'trappakhan': 1188, 'cecysnothere': 44, 'JbrockAlex': 323, 'markandmary211': 517, 'swankybb': 339, 'miss__pepita': 238, 'wdwismyworld': 310, 'iconic_eggcell': 65, 'paigeeenicole15': 1075, 'ELREDubai': 841, 'Dunyegz': 15, 'paul_crazed': 137, 'gordongrumbles': 195, 'Jerikaisamazing': 183, 'MikeRowe100': 159, 'LukerGaming': 1092, 'zeemike_7': 162, 'Dealfatigue': 4911, 'LaurieForReal': 673, 'simplegirl1328': 33, 'YamileyCave_': 674, 'aud_bowler': 350, 'blamemenahhh': 1116, '__Alojziaa': 1216, 'TheRealKianaaa': 1366, 'hayes_hayes3': 2819, '1laststraw': 913, 'LzKsto': 700, 'CherylDuggan1': 1885, 'Tsiser45': 363, 'Cynnxo__': 903, 'KaiiBugg': 201, 'k4meko': 200, 'YandereQuinn': 16, '69pdf': 72, 'garydcopeland': 60, 'TrapsAintAllGay': 29, 'governn1': 1073, 'teresa_cadavid': 340, 'Diesel_Derp': 2640, 'Greggorj': 785, 'genealogy_jill': 849, 'KenWidmeyer': 190, 'LRobinsonWagner': 17, 'SepiaMetanoia': 425, 'Liu_Kang1911': 920, 'leti1254': 292, 'bobbysilva': 70, 'White_Wolf_2016': 973, 'sehunburncarrot': 27, 'dixonshuman': 14049, 'Lolman606': 5, 'HoustonChronHS': 7220, 'Peoples_Pundit': 15892, 'debrakj': 3160, 'safronprice': 3921, 'VictoriaCarte10': 303, 'Aiso_sa': 454, 'realhansard': 1326, 'kreidler_nathan': 18, 'bellablue1060': 1751, 'seinfldwasright': 28, '_natsunosora': 131, 'charbell1231': 66, 'LilBbgx_': 6, 'naylorkin': 44, 'nazira_ahmad89': 47, 'knj_WAV': 227, 'butfirstjava': 46, 'rshsr': 40, 'Lallers96': 65, 'brenvamp': 169, 'zoobarb': 851, 'cfinkle1967': 90, 'verhaos': 4543, 'Ayo_Jono': 59, 'DrBelindaCapera': 3, 'JShambryy': 214, 'DentalCNB': 49, 'CulinaryCNB': 88, 'CareerSchoolNow': 33, 'fitandspicy': 107, 'AlyssanicoleDG': 269, 'GravesFPS': 1931, 'horaani_rinbu39': 6, 'AliumFairy': 36, 'MamaBearDone': 287, 'pjmthoughts': 1558, 'ayambakarmadu69': 6, 'Jessica_zapata5': 55, 'Bucks25ty': 139, 'moutet': 8436, 'Mdeanda00': 130, 'mafalda_hm': 97, 'nditebeck': 356, 'aisyaamira': 1209, 'withseouI': 4814, '4f0xsake': 257, 'jeffdike_': 1883, 'FeistyPotaras': 794, 'BigdaddyC__': 595, 'eriktrillmonger': 31, 'CatMamasDotCom': 27083}\n",
      "[('NEDARBNAGROM', 33354), ('CatMamasDotCom', 27083), ('finy06', 23733), ('womanownedclub', 19142), ('Peoples_Pundit', 15892), ('RBraceySherman', 14344), ('dixonshuman', 14049), ('playsosgame', 13424), ('jamestanton', 12517), ('MRADDICTION_', 10714)]\n"
     ]
    }
   ],
   "source": [
    "import string\n",
    "import operator\n",
    "import sys\n",
    "import time\n",
    "import collections\n",
    "import numpy\n",
    "\n",
    "\n",
    "FileRead= \"C:/Users/shair/OneDrive/Desktop/New folder/what.txt\";\n",
    "\n",
    "with open(FileRead , encoding = \"latin-1\") as EncodedFile:\n",
    "    File1 = EncodedFile.readlines()\n",
    "\t\n",
    "    \n",
    "#initialize the variables \n",
    "Followers = {}\n",
    "\n",
    "for data1 in File1:\n",
    "    File2 = data1.split()\n",
    "    if File2[0]  not in Followers:\n",
    "        Followers[File2[0]] = int(File2[-2])\n",
    "        \n",
    "print(Followers)\n",
    "\n",
    "top_10_followed_users = collections.Counter(Followers).most_common(10)\n",
    "print(top_10_followed_users) \n",
    "    \n",
    "outputFile = open(r'C:\\Users\\shair\\OneDrive\\Desktop\\New folder\\mostfollowed.txt' ,'w' , encoding = \"utf-8\")\n",
    "outputFile.write(\"The top 10 users who are followed most are: \\n\",)\n",
    "\n",
    "for i in range(0,10):\n",
    "    outputFile.write(str(i + 1) + \". Username: \" + top_10_followed_users[i][0] + \" -> Number of Followers: \" + str(top_10_followed_users[i][1]) + \"\\n\\n\")\n",
    "    outputFile.close"
   ]
  },
  {
   "cell_type": "code",
   "execution_count": 46,
   "metadata": {},
   "outputs": [
    {
     "name": "stdout",
     "output_type": "stream",
     "text": [
      "{'exo_exodus_exol': 133, 'franceswoolley': 0, 'SparseHackle': 0, 'ormester2009': 0, 'fungudungu': 147, 'Missxlulu1': 4493, 'PhilJDore': 0, '5secondsOf1OneD': 0, '_messsiah': 320, '_sefakor_': 2, 'QueenoftheClaw': 0, 'MRADDICTION_': 5, 'TigerTurtle': 0, 'CCPSTitleI': 5, 'thiccberly': 16982, 'NthrnCyclistTVL': 0, 'ma_nyc7': 492, 'Derkngoogly2': 587, 'ArmosKnight': 0, 'shorty_fonseca8': 505, 'michinc10': 96260, 'brakerbaker': 0, 'Keke_McGee': 20, 'nensy02_': 47169, 'M_Methuselah': 274, 'londontheGem': 3, '_chlojayne': 5, 'BrooksRaja': 3344, 'AmberPalomo': 56638, 'QMotives': 475, 'Aulianuraldina': 23158, 'TheGerryEdwards': 0, 'samaugustinee': 56638, 'ValerieJWood': 3124, 'charismacatches': 0, 'httpsubby': 4, 'AmeliaCBurke': 0, 'titasoto': 16, 'Font_Snob': 0, '_michgracient': 3427, 'LindaBerghoff': 2001, 'KPuchtel': 699, 'ThisWasMyIdea': 0, 'cacowboy48': 21, 'taping_amy': 1284, 'fenirinjanu': 270, 'themutante': 18, 'lizziesexton': 0, 'My3SonsFL': 0, 'princesspiagee': 6537, 'finy06': 7, 'jadamckenzie___': 104958, 'kyrose87': 0, 'covartsl': 1080, 'JoshuaWelle': 1, 'Marilyn122665': 2199, 'aci531': 0, 'terie_': 0, 'tgeorge2308': 0, 'j4dagoat': 285, 'herondyer': 56638, 'synhjtjs': 1097, 'rebbeca930': 12482, 'JustinC5011': 14324, 'pingusoowawa': 1092, 'lizzypelton': 2911, '_afinley': 1, 'btrsyanrimn': 531, 'BurningPntFarm1': 0, 'ELYSIANSUGA': 23158, 'jrmorgan81': 2, 'FrankieTripi716': 0, 'nesteggPUB': 0, 'macatangayemm': 0, 'athresh_bot': 0, 'Ayu_KDPS': 2949, 'TwoLLsOneE': 1020, 'yungory': 12197, 'mturski1': 6963, 'BuffParadox': 0, 'TomHoek': 1, 'EZPZEEH': 0, 'DanVersatile': 3, 'MadeinMelanin95': 0, 'NotRigoRojas': 129, 'localbangtan': 4493, 'DLovatoMedia': 0, 'keeryswolfhard_': 86933, 'G8trz4ever': 0, '1_800_SWMRS': 8432, 'softgummybb': 4665, 'annesbandrants': 102843, 'LandonEmi': 8, 'lajusti_': 14124, 'personerds': 0, 'irish_trump': 1, 'SpencerToliver': 328, 'alshabob2': 0, 'nonoLOOK': 0, 'ayolaflare': 32337, 'GeneralissimoJr': 6701, 'k4tc4rl0': 15, 'DolanSwiss': 148, 'winna_eka': 20858, 'Antipathic_hoe': 0, 'PrettyBoyCeeCee': 4697, 'jada_longbine': 6, 'whoshanar': 0, 'chloeggg': 1, 'ekate86': 0, 'CesalSosa': 56638, 'emskorup': 0, 'kimbeerlyklaege': 0, 'fish10007210': 4, 'voovoo60': 196, 'yerbasuena': 0, 'jawrepayne': 47169, 'phissy11': 220, 'DvidRx': 35, 'CoachDiribe96': 40, 'dylan_calf': 486, 'KennoGreen': 54, 'devin_salesman': 1, 'ludwellorg': 5, 'Skullee8899': 1, 'fisheye_fx': 244, 'RBraceySherman': 1515, 'a8uOb': 19, 'briannasay_what': 72019, 'Niyadiorrr': 11389, 'Kysus_': 1950, 'sinsaaaaaa': 60, 'SuKBuK': 0, 'sachynsuch': 1, 'Scooterissima': 6, 'gudnameztaken': 28, 'VulgarMercenary': 3533, 'bizzlesexchange': 102843, 'crizm0': 0, 'rosemary_clark': 0, 'paige_millerrrr': 19029, '1_dperez': 1699, 'j_aches': 58202, 'NEDARBNAGROM': 52, 'Allieoyos8': 0, 'juliandennis19': 178, 'We_Are_Waypoint': 1, '_tommoji': 14324, 'nialllflicker': 47169, 'AlbertTLunde': 107, 'tzuyutwt': 0, 'Occupy_Jamaica': 1, 'alma_altura': 283, 'sameerkinger': 0, 'peachy_leo': 0, 'aatie_pacheco': 85643, 'JasonWalker_': 12482, 'EazyDez88It': 115, 'mr_rugz': 0, 'nerdytroian': 0, 'Team_Brunette': 632, 'Aniion': 1, 'lee33788': 0, 'Jacobkilgore6': 3432, 'ksmomma74': 0, 'blue13012001': 147, 'unrivaleed': 0, 'mischimmel': 0, 'Janecvan': 2203, 'jrlnvxx': 0, 'x_Suspended': 0, 'Tery_Blackwell': 32, 'eplazabiz': 0, 'yasrofl': 1423, 'vanbev13': 14, 'liberty_sister': 20, 'ClaRay354': 0, '93bregor': 176, 'WilliamGahres': 0, 'deiontaee': 2, 'jetrotter': 2390, 'AvianoBrat': 3, 'TheRedManScott': 32, 'yvonnehazard': 1, 'andrea32160025': 23158, 'conspiracylife': 0, 'jessepinkmane': 48750, 'DinaBoz': 0, 'DrSue19380': 2, 'friastephen': 0, 'erotaekookie': 76, 'JaggerMack': 1154, 'ddzaylar': 0, 'Ritdrecus': 0, 'sonrioporcnco': 7758, 'Bitter_Pat': 0, 'mrs_stpeter': 1051, 'zoeydog15': 0, 'Tiptoethunderc1': 0, 'TinaOrt79591465': 2390, 'senpaijessy': 93, 'johnchampion79': 964, 'GenX6172': 0, 'Kasiahmae': 0, 'NikkaellObida': 29, 'ConcxitedJaee': 29588, 'BulldogPatto': 0, 'DrePerko': 54, 'ChrisAlanComedy': 0, 'izzmle': 0, 'NajeCarlos_': 3686, 'playsosgame': 27, 'ezhilarasuek17': 27, '5_GenGen': 10581, 'mberman': 0, 'AMTrautt': 49, 'ewellprong': 0, 'my_hearteu02': 4665, 'caninecatnip': 0, 'SusanHershSmith': 0, 'RamonaC74273501': 1, 'gill066': 0, 'SilkenAura': 15169, 'harrynkh': 2, 'superawesome255': 0, 'AWhimsicalMess': 0, 'CarrolLewis1': 226, 'JacobWolinsky': 0, 'Tasha_Woot': 0, 'Sonamoon8': 352, 'jasmineshughes': 0, 'SaraLuvsPuppies': 0, 'diandujour': 1, 'BitcoinBolt': 0, 'hahoAnna': 24518, 'KevinBnino399': 80, 'therbzyall': 0, 'annmarieee1': 225, 'JustJuicy88': 0, 'ModerateWisdom': 1, 'muhaliftavir': 1060, 'David__Costa': 0, 'cian_lancaster': 0, 'ArielEIizabeth': 48750, 'jesslynnex': 3, 'FreDDzalot': 45, 'thaolitos': 48750, 'KptMatt': 0, 'JackRos22241643': 0, 'LindsleyAllen': 0, 'jamestanton': 0, 'marcyourva': 0, 'killminnie': 1021, 'kpendell': 3595, 'Exo4Lwith': 7, 'Velazquez_Evell': 10, 'womanownedclub': 3, 'septuvariest': 0, 'barneybraces': 0, 'FUCKJAMIE17': 31868, 'RealMadridPumas': 1883, 'TheFebrileMuse': 0, 'tracykumo': 911, 'patg0v': 102843, 'El_Rey81': 2, 'camIIIquinteroo': 47169, 'BensidiAnas': 105, 'ShelterMelody': 1, '1NunderGod_Emly': 467, 'variousjackie': 0, 'sandisellshomes': 94, 'sexyyjimin': 14124, 'campfarrell54': 2, 'Foge1_': 14324, 'CraveNani': 14874, 'Rohan_SF': 49989, 'ReynaMirai': 10, 'Drullkus': 1, 'TweetMeJerk': 98, '_MermaidArielle': 0, 'noravalkiyrie': 58, 'sporting_guard': 0, 'gprimal': 0, 'yangneekang': 395, 'amandagerhart13': 6561, 'SlidinDelta': 1261, '_Moy3r': 1, 'donna_griebel': 12482, '_Lovelleps': 0, 'alanctobacilos': 0, 'troyeftchai': 86933, 'oslo_sean': 144, 'BlowUpRadio': 0, 'SlickHairedKing': 1, 'Man_like_Mufasa': 2629, 'trappakhan': 0, 'cecysnothere': 1144, 'JbrockAlex': 0, 'markandmary211': 1, 'swankybb': 0, 'miss__pepita': 56638, 'wdwismyworld': 717, 'iconic_eggcell': 797, 'paigeeenicole15': 102843, 'ELREDubai': 0, 'Dunyegz': 0, 'paul_crazed': 361, 'gordongrumbles': 0, 'Jerikaisamazing': 0, 'MikeRowe100': 7, 'LukerGaming': 60, 'zeemike_7': 2581, 'Dealfatigue': 3919, 'LaurieForReal': 1, 'simplegirl1328': 485, 'YamileyCave_': 1, 'aud_bowler': 0, 'blamemenahhh': 0, '__Alojziaa': 10581, 'TheRealKianaaa': 26, 'hayes_hayes3': 0, '1laststraw': 7, 'LzKsto': 32337, 'CherylDuggan1': 14, 'Tsiser45': 97, 'Cynnxo__': 3301, 'KaiiBugg': 12205, 'k4meko': 102843, 'YandereQuinn': 0, '69pdf': 3, 'garydcopeland': 0, 'TrapsAintAllGay': 0, 'governn1': 0, 'teresa_cadavid': 971, 'Diesel_Derp': 0, 'Greggorj': 0, 'genealogy_jill': 0, 'KenWidmeyer': 17, 'LRobinsonWagner': 117, 'SepiaMetanoia': 0, 'Liu_Kang1911': 754, 'leti1254': 1, 'bobbysilva': 1451, 'White_Wolf_2016': 0, 'sehunburncarrot': 2949, 'dixonshuman': 771, 'Lolman606': 0, 'HoustonChronHS': 920, 'Peoples_Pundit': 0, 'debrakj': 2203, 'safronprice': 862, 'VictoriaCarte10': 2390, 'Aiso_sa': 495, 'realhansard': 0, 'kreidler_nathan': 356, 'bellablue1060': 94, 'seinfldwasright': 0, '_natsunosora': 0, 'charbell1231': 813, 'LilBbgx_': 14958, 'naylorkin': 8517, 'nazira_ahmad89': 72, 'knj_WAV': 0, 'butfirstjava': 5, 'rshsr': 0, 'Lallers96': 0, 'brenvamp': 0, 'zoobarb': 35, 'cfinkle1967': 162, 'verhaos': 0, 'Ayo_Jono': 107, 'DrBelindaCapera': 0, 'JShambryy': 102843, 'DentalCNB': 3, 'CulinaryCNB': 3, 'CareerSchoolNow': 3, 'fitandspicy': 0, 'AlyssanicoleDG': 1039, 'GravesFPS': 0, 'horaani_rinbu39': 4234, 'AliumFairy': 0, 'MamaBearDone': 1300, 'pjmthoughts': 5, 'ayambakarmadu69': 371, 'Jessica_zapata5': 50301, 'Bucks25ty': 37790, 'moutet': 73, 'Mdeanda00': 0, 'mafalda_hm': 102843, 'nditebeck': 3, 'aisyaamira': 5, 'withseouI': 2, '4f0xsake': 539, 'jeffdike_': 2256, 'FeistyPotaras': 0, 'BigdaddyC__': 13655, 'eriktrillmonger': 0, 'CatMamasDotCom': 4}\n",
      "[('NEDARBNAGROM', 33354), ('CatMamasDotCom', 27083), ('finy06', 23733), ('womanownedclub', 19142), ('Peoples_Pundit', 15892), ('RBraceySherman', 14344), ('dixonshuman', 14049), ('playsosgame', 13424), ('jamestanton', 12517), ('MRADDICTION_', 10714)]\n"
     ]
    }
   ],
   "source": [
    "import string\n",
    "import operator\n",
    "import sys\n",
    "import time\n",
    "import collections\n",
    "import numpy\n",
    "\n",
    "\n",
    "FileRead= \"C:/Users/shair/OneDrive/Desktop/New folder/what.txt\";\n",
    "\n",
    "with open(FileRead , encoding = \"latin-1\") as EncodedFile:\n",
    "    File1 = EncodedFile.readlines()\n",
    "\t\n",
    "    \n",
    "#initialize the variables \n",
    "Maximum_retweets_for_user = {}\n",
    "\n",
    "for data1 in File1:\n",
    "    File2 = data1.split()\n",
    "    if File2[0]  not in Maximum_retweets_for_user:\n",
    "        Maximum_retweets_for_user[File2[0]] = int(File2[-1])\n",
    "        \n",
    "print(Maximum_retweets_for_user)\n",
    "\n",
    "top_10_users = collections.Counter(Maximum_retweets_for_user).most_common(10)\n",
    "print(top_10_followed_users) \n",
    "    \n",
    "outputFile = open(r'C:\\Users\\shair\\OneDrive\\Desktop\\New folder\\mostretweet.txt' ,'w' , encoding = \"utf-8\")\n",
    "outputFile.write(\"The top 10 users who's post was retweeted are: \\n\",)\n",
    "\n",
    "for i in range(0,10):\n",
    "    outputFile.write(str(i + 1) + \". Username: \" + top_10_users[i][0] + \" -> Number of Retweets: \" + str(top_10_users[i][1]) + \"\\n\\n\")\n",
    "    outputFile.close\n"
   ]
  },
  {
   "cell_type": "code",
   "execution_count": 47,
   "metadata": {},
   "outputs": [],
   "source": [
    "mosttweethour = {}\n",
    "\n",
    "for dat in File1:\n",
    "    file2 = dat.split()\n",
    "    file3 = file2[1].split(\":\")   #checking the time variable from each line\n",
    "    Time = file2[0] + \" \" + file2[1] \n",
    "    if Time in mosttweethour:\n",
    "        mosttweethour[Time] += 1\n",
    "    else:\n",
    "        mosttweethour[Time] = 1\n",
    "\n",
    "mosttweethour = sorted(mosttweethour.items(), key=operator.itemgetter(1), reverse=True)\n",
    "#mosttweet\n",
    "\n",
    "mosttweethour2 = {}\n",
    "\n",
    "totalpostbyuser = 0\n",
    "for dat in mosttweethour:\n",
    "    totalpostbyuser += 1\n",
    "    if (dat[0].split()[1]) in mosttweethour2:\n",
    "        mosttweethour2[dat[0].split()[1]] += 1\n",
    "    else:\n",
    "        mosttweethour2[dat[0].split()[1]] = 1\n",
    "\n",
    "mosttweethour2 = sorted(mosttweethour2.items(), key=operator.itemgetter(1))\n",
    "#print(mosttweethour2)\n",
    "\n",
    "\n",
    "totalEntriesToPrint = 10 * len(mosttweethour2)\n",
    "outputFile = open(r'C:\\Users\\shair\\OneDrive\\Desktop\\New folder\\mostperhourtweets.txt', 'w',\n",
    "                  encoding='utf-8')\n",
    "\n",
    "for x in range(0, len(mosttweethour2)):\n",
    "    Search = 10\n",
    "    for dat in mosttweethour:\n",
    "        if Search == 0:\n",
    "            break\n",
    "        if dat[0].split()[1] == mosttweethour2[x][0]:\n",
    "            outputFile.write(\"Username: \" + dat[0].split()[0] + \"\\n Hour: \" + mosttweethour2[x][0] + \"\\n\")\n",
    "            Search -= 1\n",
    "            outputFile.close"
   ]
  },
  {
   "cell_type": "code",
   "execution_count": null,
   "metadata": {},
   "outputs": [],
   "source": []
  }
 ],
 "metadata": {
  "kernelspec": {
   "display_name": "Python 3",
   "language": "python",
   "name": "python3"
  },
  "language_info": {
   "codemirror_mode": {
    "name": "ipython",
    "version": 3
   },
   "file_extension": ".py",
   "mimetype": "text/x-python",
   "name": "python",
   "nbconvert_exporter": "python",
   "pygments_lexer": "ipython3",
   "version": "3.6.4"
  }
 },
 "nbformat": 4,
 "nbformat_minor": 2
}
